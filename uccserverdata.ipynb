{
 "cells": [
  {
   "cell_type": "code",
   "execution_count": 3,
   "metadata": {},
   "outputs": [],
   "source": [
    "#DATA INGESTION\n",
    "\n",
    "import pandas as pd\n",
    "import re\n",
    "\n",
    "# read the log file into a dataframe\n",
    "def read_log(file_path):\n",
    "    with open(file_path, 'r') as file:\n",
    "        ucc_df = file.readlines()\n",
    "    return ucc_df\n",
    "\n",
    "log_data = read_log('uccserverdata_first_3000_lines.txt')\n",
    "\n",
    "#load the file\n",
    "# with open(\"uccserverdata.txt\", \"r\") as file:\n",
    "    # ucc_data = file.readlines()"
   ]
  },
  {
   "cell_type": "code",
   "execution_count": 4,
   "metadata": {},
   "outputs": [],
   "source": [
    "#DATA CLEANING\n",
    "\n",
    "#define a function to parse log lines\n",
    "def parse_log_line(line):\n",
    "    pattern = re.compile(r'(\\d+\\.\\d+\\.\\d+\\.\\d+) - - \\[(.*?)\\] \"GET /EQUEV\\?VRSN=(.*?)&IMEI=(.*?)&IMSI=(.*?)&ESTS=(.*?)&RNTP=(.*?)&RNDN=(.*?)&TIME=(.*?)&CELL=(.*?)&RNPC=(.*?)&MSDN=(.*?)&MTON=(.*?)&MNPI=(.*?) HTTP/1.1\" \\d+ \\d+')\n",
    "    match = pattern.match(line)\n",
    "    if match:\n",
    "        return match.groups()\n",
    "\n",
    "    return None\n",
    "\n",
    "\n",
    "#parse log lines into a dataframe\n",
    "parsed_data = [parse_log_line(line) for line in log_data if parse_log_line(line)]\n",
    "columns = ['IP', 'Timestamp', 'VRSN', 'IMEI', 'IMSI', 'ESTS', 'RNTP', 'RNDN', 'TIME', 'CELL', 'RNPC', 'MSDN', 'MTON', 'MNPI']\n",
    "df = pd.DataFrame(parsed_data, columns=columns)"
   ]
  },
  {
   "cell_type": "code",
   "execution_count": 5,
   "metadata": {},
   "outputs": [
    {
     "name": "stdout",
     "output_type": "stream",
     "text": [
      "              IP                   Timestamp VRSN            IMEI  \\\n",
      "0  10.170.179.28  16/Sep/2021:23:46:52 -0400    3  35020696066376   \n",
      "1  10.170.179.28  16/Sep/2021:23:46:52 -0400    3  35806709523997   \n",
      "2  10.170.179.29  16/Sep/2021:23:46:52 -0400    3  35265208696038   \n",
      "3  10.170.179.28  16/Sep/2021:23:46:52 -0400    3  35324426668968   \n",
      "4  10.170.179.28  16/Sep/2021:23:46:52 -0400    3  35522811588373   \n",
      "\n",
      "              IMSI ESTS RNTP          RNDN        TIME               CELL  \\\n",
      "0  641102951330517    W    8  256771101040  064652.286    641-10-301-6873   \n",
      "1  659020008150934    U    8  256771101040  064652.288   641-10-187-19352   \n",
      "2  641101919243365    W    8  256771101050  064652.279   641-10-510-17602   \n",
      "3  641101918370478    W    8  256771101061  064652.293  641-10-6014-15850   \n",
      "4  641102946106349    W    8  256771101040  064652.294  641-10-1003-13213   \n",
      "\n",
      "  RNPC          MSDN MTON    MNPI  \n",
      "0    1  256778871722    1       1  \n",
      "1    1  211929387627    1  1&RMR=  \n",
      "2    1  256779845982    1       1  \n",
      "3    1  256781962249    1       1  \n",
      "4    1  256773587416    1       1  \n"
     ]
    }
   ],
   "source": [
    "print (df.head())"
   ]
  },
  {
   "cell_type": "code",
   "execution_count": 6,
   "metadata": {},
   "outputs": [],
   "source": [
    "#remove duplicates\n",
    "df = df.drop_duplicates()"
   ]
  },
  {
   "cell_type": "code",
   "execution_count": 7,
   "metadata": {},
   "outputs": [],
   "source": [
    "#handle missing values\n",
    "df.fillna('Unknown', inplace=True)"
   ]
  },
  {
   "cell_type": "code",
   "execution_count": 8,
   "metadata": {},
   "outputs": [],
   "source": [
    "# Analysis\n",
    "\n",
    "\n",
    "#  Display basic information about the data\n",
    "# print(df.info())\n",
    "# print(df.describe())\n",
    "# print(df.head())"
   ]
  },
  {
   "cell_type": "code",
   "execution_count": 9,
   "metadata": {},
   "outputs": [
    {
     "data": {
      "text/html": [
       "<div>\n",
       "<style scoped>\n",
       "    .dataframe tbody tr th:only-of-type {\n",
       "        vertical-align: middle;\n",
       "    }\n",
       "\n",
       "    .dataframe tbody tr th {\n",
       "        vertical-align: top;\n",
       "    }\n",
       "\n",
       "    .dataframe thead th {\n",
       "        text-align: right;\n",
       "    }\n",
       "</style>\n",
       "<table border=\"1\" class=\"dataframe\">\n",
       "  <thead>\n",
       "    <tr style=\"text-align: right;\">\n",
       "      <th></th>\n",
       "      <th>IP</th>\n",
       "      <th>IMEI</th>\n",
       "      <th>IMSI</th>\n",
       "      <th>MSDN</th>\n",
       "    </tr>\n",
       "  </thead>\n",
       "  <tbody>\n",
       "    <tr>\n",
       "      <th>0</th>\n",
       "      <td>10.170.179.28</td>\n",
       "      <td>35020696066376</td>\n",
       "      <td>641102951330517</td>\n",
       "      <td>256778871722</td>\n",
       "    </tr>\n",
       "    <tr>\n",
       "      <th>1</th>\n",
       "      <td>10.170.179.28</td>\n",
       "      <td>35806709523997</td>\n",
       "      <td>659020008150934</td>\n",
       "      <td>211929387627</td>\n",
       "    </tr>\n",
       "    <tr>\n",
       "      <th>2</th>\n",
       "      <td>10.170.179.29</td>\n",
       "      <td>35265208696038</td>\n",
       "      <td>641101919243365</td>\n",
       "      <td>256779845982</td>\n",
       "    </tr>\n",
       "    <tr>\n",
       "      <th>3</th>\n",
       "      <td>10.170.179.28</td>\n",
       "      <td>35324426668968</td>\n",
       "      <td>641101918370478</td>\n",
       "      <td>256781962249</td>\n",
       "    </tr>\n",
       "    <tr>\n",
       "      <th>4</th>\n",
       "      <td>10.170.179.28</td>\n",
       "      <td>35522811588373</td>\n",
       "      <td>641102946106349</td>\n",
       "      <td>256773587416</td>\n",
       "    </tr>\n",
       "  </tbody>\n",
       "</table>\n",
       "</div>"
      ],
      "text/plain": [
       "              IP            IMEI             IMSI          MSDN\n",
       "0  10.170.179.28  35020696066376  641102951330517  256778871722\n",
       "1  10.170.179.28  35806709523997  659020008150934  211929387627\n",
       "2  10.170.179.29  35265208696038  641101919243365  256779845982\n",
       "3  10.170.179.28  35324426668968  641101918370478  256781962249\n",
       "4  10.170.179.28  35522811588373  641102946106349  256773587416"
      ]
     },
     "execution_count": 9,
     "metadata": {},
     "output_type": "execute_result"
    }
   ],
   "source": [
    "#field selection\n",
    "selected_columns = ['IP', 'IMEI', 'IMSI', 'MSDN']\n",
    "df_selected =df[selected_columns]\n",
    "df_selected.head()"
   ]
  },
  {
   "cell_type": "code",
   "execution_count": 12,
   "metadata": {},
   "outputs": [
    {
     "name": "stderr",
     "output_type": "stream",
     "text": [
      "C:\\Users\\Administrator\\AppData\\Local\\Temp\\ipykernel_5080\\953484026.py:4: SettingWithCopyWarning: \n",
      "A value is trying to be set on a copy of a slice from a DataFrame.\n",
      "Try using .loc[row_indexer,col_indexer] = value instead\n",
      "\n",
      "See the caveats in the documentation: https://pandas.pydata.org/pandas-docs/stable/user_guide/indexing.html#returning-a-view-versus-a-copy\n",
      "  df_selected['CountryCode'] = df_selected['MSDN'].str[:3]\n"
     ]
    }
   ],
   "source": [
    "#Transformation\n",
    " \n",
    "# Create a new field 'CountryCode' derived from MSDN\n",
    "df_selected['CountryCode'] = df_selected['MSDN'].str[:3]\n"
   ]
  },
  {
   "cell_type": "code",
   "execution_count": 13,
   "metadata": {},
   "outputs": [
    {
     "data": {
      "text/html": [
       "<div>\n",
       "<style scoped>\n",
       "    .dataframe tbody tr th:only-of-type {\n",
       "        vertical-align: middle;\n",
       "    }\n",
       "\n",
       "    .dataframe tbody tr th {\n",
       "        vertical-align: top;\n",
       "    }\n",
       "\n",
       "    .dataframe thead th {\n",
       "        text-align: right;\n",
       "    }\n",
       "</style>\n",
       "<table border=\"1\" class=\"dataframe\">\n",
       "  <thead>\n",
       "    <tr style=\"text-align: right;\">\n",
       "      <th></th>\n",
       "      <th>IP</th>\n",
       "      <th>IMEI</th>\n",
       "      <th>IMSI</th>\n",
       "      <th>MSDN</th>\n",
       "      <th>CountryCode</th>\n",
       "    </tr>\n",
       "  </thead>\n",
       "  <tbody>\n",
       "    <tr>\n",
       "      <th>0</th>\n",
       "      <td>10.170.179.28</td>\n",
       "      <td>35020696066376</td>\n",
       "      <td>641102951330517</td>\n",
       "      <td>256778871722</td>\n",
       "      <td>256</td>\n",
       "    </tr>\n",
       "    <tr>\n",
       "      <th>1</th>\n",
       "      <td>10.170.179.28</td>\n",
       "      <td>35806709523997</td>\n",
       "      <td>659020008150934</td>\n",
       "      <td>211929387627</td>\n",
       "      <td>211</td>\n",
       "    </tr>\n",
       "    <tr>\n",
       "      <th>2</th>\n",
       "      <td>10.170.179.29</td>\n",
       "      <td>35265208696038</td>\n",
       "      <td>641101919243365</td>\n",
       "      <td>256779845982</td>\n",
       "      <td>256</td>\n",
       "    </tr>\n",
       "    <tr>\n",
       "      <th>3</th>\n",
       "      <td>10.170.179.28</td>\n",
       "      <td>35324426668968</td>\n",
       "      <td>641101918370478</td>\n",
       "      <td>256781962249</td>\n",
       "      <td>256</td>\n",
       "    </tr>\n",
       "    <tr>\n",
       "      <th>4</th>\n",
       "      <td>10.170.179.28</td>\n",
       "      <td>35522811588373</td>\n",
       "      <td>641102946106349</td>\n",
       "      <td>256773587416</td>\n",
       "      <td>256</td>\n",
       "    </tr>\n",
       "  </tbody>\n",
       "</table>\n",
       "</div>"
      ],
      "text/plain": [
       "              IP            IMEI             IMSI          MSDN CountryCode\n",
       "0  10.170.179.28  35020696066376  641102951330517  256778871722         256\n",
       "1  10.170.179.28  35806709523997  659020008150934  211929387627         211\n",
       "2  10.170.179.29  35265208696038  641101919243365  256779845982         256\n",
       "3  10.170.179.28  35324426668968  641101918370478  256781962249         256\n",
       "4  10.170.179.28  35522811588373  641102946106349  256773587416         256"
      ]
     },
     "execution_count": 13,
     "metadata": {},
     "output_type": "execute_result"
    }
   ],
   "source": [
    "df_selected.head()"
   ]
  }
 ],
 "metadata": {
  "kernelspec": {
   "display_name": "myenv",
   "language": "python",
   "name": "python3"
  },
  "language_info": {
   "codemirror_mode": {
    "name": "ipython",
    "version": 3
   },
   "file_extension": ".py",
   "mimetype": "text/x-python",
   "name": "python",
   "nbconvert_exporter": "python",
   "pygments_lexer": "ipython3",
   "version": "3.10.8"
  }
 },
 "nbformat": 4,
 "nbformat_minor": 2
}
